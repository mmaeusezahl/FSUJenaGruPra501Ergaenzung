{
 "cells": [
  {
   "cell_type": "markdown",
   "metadata": {},
   "source": [
    "# 501 - Numerische Fehlerpropagation\n",
    "\n",
    "Zur Ausführung des Skriptes einfach die Werte $a, b, R_0', R_1', R_2'$ und $R_N$ entsprechend der Dokumentation eintragen.\n",
    "\n",
    "Danach kann das Programm ausgeführt werden:\n",
    "- In die Zelle mit dem Quelltext klicken\n",
    "- mit \"Run\" (oben) oder \"Umschalt+Enter\" die Ausführung starten"
   ]
  },
  {
   "cell_type": "code",
   "execution_count": 1,
   "metadata": {
    "scrolled": true
   },
   "outputs": [
    {
     "data": {
      "text/latex": [
       "$T_1 = 0.123 \\pm 0.027$"
      ],
      "text/plain": [
       "<IPython.core.display.Latex object>"
      ]
     },
     "metadata": {},
     "output_type": "display_data"
    },
    {
     "data": {
      "text/latex": [
       "$T_2 = 0.076 \\pm 0.021$"
      ],
      "text/plain": [
       "<IPython.core.display.Latex object>"
      ]
     },
     "metadata": {},
     "output_type": "display_data"
    },
    {
     "data": {
      "text/latex": [
       "$T_2^\\text{korr} = 0.055 \\pm 0.027$"
      ],
      "text/plain": [
       "<IPython.core.display.Latex object>"
      ]
     },
     "metadata": {},
     "output_type": "display_data"
    },
    {
     "name": "stdout",
     "output_type": "stream",
     "text": [
      "\n"
     ]
    },
    {
     "data": {
      "text/latex": [
       "$λ_1 = (62.6 \\pm 2.6)\\;\\text{pm}$"
      ],
      "text/plain": [
       "<IPython.core.display.Latex object>"
      ]
     },
     "metadata": {},
     "output_type": "display_data"
    },
    {
     "data": {
      "text/latex": [
       "$λ_2 = (67.5 \\pm 2.8)\\;\\text{pm}$"
      ],
      "text/plain": [
       "<IPython.core.display.Latex object>"
      ]
     },
     "metadata": {},
     "output_type": "display_data"
    },
    {
     "data": {
      "text/latex": [
       "$λ_2^\\text{korr} = (70.5 \\pm 4.5)\\;\\text{pm}$"
      ],
      "text/plain": [
       "<IPython.core.display.Latex object>"
      ]
     },
     "metadata": {},
     "output_type": "display_data"
    },
    {
     "name": "stdout",
     "output_type": "stream",
     "text": [
      "\n"
     ]
    },
    {
     "data": {
      "text/latex": [
       "$Δλ = (4.91 \\pm 2.58)\\;\\text{pm}$"
      ],
      "text/plain": [
       "<IPython.core.display.Latex object>"
      ]
     },
     "metadata": {},
     "output_type": "display_data"
    },
    {
     "data": {
      "text/latex": [
       "$Δλ^\\text{korr} = (7.91 \\pm 4.77)\\;\\text{pm}$"
      ],
      "text/plain": [
       "<IPython.core.display.Latex object>"
      ]
     },
     "metadata": {},
     "output_type": "display_data"
    },
    {
     "data": {
      "text/latex": [
       "$Δλ^\\text{theo} = (4.4138 \\pm 0.0024)\\;\\text{pm}$"
      ],
      "text/plain": [
       "<IPython.core.display.Latex object>"
      ]
     },
     "metadata": {},
     "output_type": "display_data"
    }
   ],
   "source": [
    "import numpy as np\n",
    "import uncertainties as unc\n",
    "import uncertainties.umath as umath\n",
    "import scipy.constants as consts\n",
    "from IPython.display import display, Markdown, Latex\n",
    "\n",
    "'''\n",
    "Berechnet das 2σ Konfidenzintervall einer Poissonverteilten Ratenmessung.\n",
    "R - gemessene Rate\n",
    "T - Messdauer\n",
    "'''\n",
    "def unsicherheit_rate(R, T):\n",
    "    return unc.ufloat(R, 2 * np.sqrt(R/T))\n",
    "\n",
    "# Konstanten\n",
    "C = 0.3096\n",
    "alpha = unc.ufloat(145, 0.1) # °\n",
    "\n",
    "#######################################################################\n",
    "# Hier die gemessenen Raten (in 1/s) und die Messdauer angeben (in s)\n",
    "# z.B.: RN = unsicherheit_rate(0.218, 600) heißt R=0.218 mit Δt=600s\n",
    "#######################################################################\n",
    "RN = unsicherheit_rate(0.218, 600)\n",
    "R0 = unsicherheit_rate(3.880, 60)\n",
    "R1 = unsicherheit_rate(0.669, 600)\n",
    "R2 = unsicherheit_rate(0.496, 600)\n",
    "\n",
    "#######################################################################\n",
    "# Hier die aus der Anpassung ermittelten Konstanten a,b angeben\n",
    "# (in der Form \"Wert, Unsicherheit\")\n",
    "# z.B. a = unc.ufloat(7.6, 0.1) heißt a=(7.6±0.1)\n",
    "#######################################################################\n",
    "a = unc.ufloat(7.6, 0.1)\n",
    "b = unc.ufloat(2.75, 0.1)\n",
    "#######################################################################\n",
    "\n",
    "# Funktion entsprechend des Modells\n",
    "wellenlanege = lambda T: (-umath.log(T)/a)**(1/b) * 100\n",
    "\n",
    "# eigentliche Rechnungen\n",
    "# die Unsicherheiten werden automatisch propagiert!\n",
    "T1     = (R1 - RN) / (R0 - RN)\n",
    "T2     = (R2 - RN) / (R0 - RN)\n",
    "T2korr = (T2 - C*T1) / (1-C)\n",
    "\n",
    "# Ergebnisse anzeigen\n",
    "display(Latex('$T_1 = {:.2uL}$'.format(T1)))\n",
    "display(Latex('$T_2 = {:.2uL}$'.format(T2)))\n",
    "display(Latex('$T_2^\\\\text{{korr}} = {:.2uL}$'.format(T2korr)))\n",
    "print()\n",
    "display(Latex('$λ_1 = ({:.2uL})\\\\;\\\\text{{pm}}$'.format(wellenlanege(T1))))\n",
    "display(Latex('$λ_2 = ({:.2uL})\\\\;\\\\text{{pm}}$'.format(wellenlanege(T2))))\n",
    "display(Latex('$λ_2^\\\\text{{korr}} = ({:.2uL})\\\\;\\\\text{{pm}}$'.format(wellenlanege(T2korr))))\n",
    "print()\n",
    "display(Latex('$Δλ = ({:.3uL})\\\\;\\\\text{{pm}}$'.format(wellenlanege(T2) - wellenlanege(T1))))\n",
    "display(Latex('$Δλ^\\\\text{{korr}} = ({:.3uL})\\\\;\\\\text{{pm}}$'.format(wellenlanege(T2korr) - wellenlanege(T1))))\n",
    "\n",
    "display(Latex('$Δλ^\\\\text{{theo}} = ({:.2uL})\\\\;\\\\text{{pm}}$'.format(consts.physical_constants['Compton wavelength'][0] * (1-umath.cos(alpha * np.pi / 180)) * 10**12)))"
   ]
  },
  {
   "cell_type": "code",
   "execution_count": null,
   "metadata": {},
   "outputs": [],
   "source": []
  }
 ],
 "metadata": {
  "kernelspec": {
   "display_name": "Python 3",
   "language": "python",
   "name": "python3"
  },
  "language_info": {
   "codemirror_mode": {
    "name": "ipython",
    "version": 3
   },
   "file_extension": ".py",
   "mimetype": "text/x-python",
   "name": "python",
   "nbconvert_exporter": "python",
   "pygments_lexer": "ipython3",
   "version": "3.7.1"
  }
 },
 "nbformat": 4,
 "nbformat_minor": 2
}
